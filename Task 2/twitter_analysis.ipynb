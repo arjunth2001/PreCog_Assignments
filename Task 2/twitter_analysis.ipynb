{
 "cells": [
  {
   "cell_type": "code",
   "execution_count": 1,
   "metadata": {},
   "outputs": [],
   "source": [
    "from tweepy.streaming import StreamListener\n",
    "from tweepy import OAuthHandler\n",
    "from tweepy import Stream"
   ]
  },
  {
   "cell_type": "code",
   "execution_count": null,
   "metadata": {},
   "outputs": [],
   "source": []
  },
  {
   "cell_type": "markdown",
   "metadata": {},
   "source": [
    "ACCESS_TOKEN=\"929492088915337216-yP5PizbCfNMGVSJtt3OgIFlh3iJiB34\"\n",
    "ACCESS_TOKEN_SECRET=\"06ZhcJo02h2dZclkugH04fdelLEppg151A3mq4x3FuJ2T\"\n",
    "CONSUMER_KEY=\"DqjW4VdIPFv4fC7YWVGpJiqtG\"\n",
    "CONSUMER_KEY_SECRET=\"ojrpev2HJu2E2Du5YlSQjUu8W8frYgX6n3FCtJvqyr7GBrLSOX\""
   ]
  }
 ],
 "metadata": {
  "kernelspec": {
   "display_name": "Python 3",
   "language": "python",
   "name": "python3"
  },
  "language_info": {
   "codemirror_mode": {
    "name": "ipython",
    "version": 3
   },
   "file_extension": ".py",
   "mimetype": "text/x-python",
   "name": "python",
   "nbconvert_exporter": "python",
   "pygments_lexer": "ipython3",
   "version": "3.9.1"
  }
 },
 "nbformat": 4,
 "nbformat_minor": 4
}
